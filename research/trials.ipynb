{
 "cells": [
  {
   "cell_type": "code",
   "execution_count": 1,
   "id": "8cd83d67",
   "metadata": {},
   "outputs": [],
   "source": [
    "import os\n",
    "from dotenv import load_dotenv\n",
    "import requests"
   ]
  },
  {
   "cell_type": "code",
   "execution_count": null,
   "id": "e3c4c19d",
   "metadata": {},
   "outputs": [],
   "source": [
    "# Load the API key from .env\n",
    "load_dotenv()\n",
    "GROQ_API_KEY = os.getenv(\"GROQ_API_KEY\")"
   ]
  },
  {
   "cell_type": "code",
   "execution_count": 98,
   "id": "e7257e06",
   "metadata": {},
   "outputs": [],
   "source": [
    "# Groq endpoint and headers\n",
    "url = \"https://api.groq.com/openai/v1/chat/completions\"\n",
    "headers = {\n",
    "    \"Authorization\": f\"Bearer {GROQ_API_KEY}\",\n",
    "    \"Content-Type\": \"application/json\"\n",
    "}"
   ]
  },
  {
   "cell_type": "code",
   "execution_count": 99,
   "id": "fb4cc21e",
   "metadata": {},
   "outputs": [],
   "source": [
    "# Payload (request body)\n",
    "payload = {\n",
    "        \"model\": \"llama-3.3-70b-versatile\",\n",
    "        \"messages\": [\n",
    "            {\n",
    "                \"role\": \"system\",\n",
    "                \"content\": (\n",
    "                \"Reply like a human in a conversation. Keep it short and friendly. \"\n",
    "                \"Do not explain your thoughts. No tags like <think>, <reason>, or any system-like responses. \"\n",
    "                \"Just return plain text, like a person talking.\"\n",
    "                )\n",
    "            },\n",
    "            {\"role\": \"user\", \"content\": \"hey how are you\"}\n",
    "        ],\n",
    "        \"temperature\": 0.8\n",
    "    }"
   ]
  },
  {
   "cell_type": "code",
   "execution_count": 100,
   "id": "ca54e8b5",
   "metadata": {},
   "outputs": [],
   "source": [
    "# Make the API call\n",
    "response = requests.post(\n",
    "    url, \n",
    "    headers=headers, \n",
    "    json=payload\n",
    ")"
   ]
  },
  {
   "cell_type": "code",
   "execution_count": 101,
   "id": "44cf60cf",
   "metadata": {},
   "outputs": [
    {
     "name": "stdout",
     "output_type": "stream",
     "text": [
      "I'm doing great, thanks for asking. How about you?\n"
     ]
    }
   ],
   "source": [
    "# Parse and print the result\n",
    "if response.status_code == 200:\n",
    "    result = response.json()\n",
    "    print(result[\"choices\"][0][\"message\"][\"content\"])\n",
    "else:\n",
    "    print(f\"❌ Error {response.status_code}: {response.text}\")"
   ]
  },
  {
   "cell_type": "code",
   "execution_count": null,
   "id": "897deaf3",
   "metadata": {},
   "outputs": [],
   "source": []
  }
 ],
 "metadata": {
  "kernelspec": {
   "display_name": "myenv",
   "language": "python",
   "name": "python3"
  },
  "language_info": {
   "codemirror_mode": {
    "name": "ipython",
    "version": 3
   },
   "file_extension": ".py",
   "mimetype": "text/x-python",
   "name": "python",
   "nbconvert_exporter": "python",
   "pygments_lexer": "ipython3",
   "version": "3.11.9"
  }
 },
 "nbformat": 4,
 "nbformat_minor": 5
}
